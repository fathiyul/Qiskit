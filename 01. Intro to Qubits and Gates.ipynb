{
 "cells": [
  {
   "cell_type": "markdown",
   "id": "77539fd5",
   "metadata": {},
   "source": [
    "To install qiskit and environment setup, visit: https://learn.qiskit.org/course/ch-prerequisites/environment-setup-guide-to-work-with-qiskit-textbook"
   ]
  },
  {
   "cell_type": "code",
   "execution_count": 1,
   "id": "229179a5",
   "metadata": {},
   "outputs": [],
   "source": [
    "from qiskit import QuantumCircuit"
   ]
  },
  {
   "cell_type": "code",
   "execution_count": 2,
   "id": "69db8365",
   "metadata": {},
   "outputs": [
    {
     "data": {
      "text/html": [
       "<pre style=\"word-wrap: normal;white-space: pre;background: #fff0;line-height: 1.1;font-family: &quot;Courier New&quot;,Courier,monospace\">     \n",
       "q_0: \n",
       "     \n",
       "q_1: \n",
       "     \n",
       "q_2: \n",
       "     \n",
       "c: 3/\n",
       "     </pre>"
      ],
      "text/plain": [
       "     \n",
       "q_0: \n",
       "     \n",
       "q_1: \n",
       "     \n",
       "q_2: \n",
       "     \n",
       "c: 3/\n",
       "     "
      ]
     },
     "execution_count": 2,
     "metadata": {},
     "output_type": "execute_result"
    }
   ],
   "source": [
    "# create qc w/ 3 qubits (or 3 quantum registers) and 3 classical bits (or 3 classical registers)\n",
    "qc = QuantumCircuit(3, 3)\n",
    "qc.draw()"
   ]
  },
  {
   "cell_type": "markdown",
   "id": "72fc805c",
   "metadata": {},
   "source": [
    "https://qiskit.org/documentation/stubs/qiskit.circuit.QuantumCircuit.html"
   ]
  },
  {
   "cell_type": "code",
   "execution_count": 3,
   "id": "8c04469d",
   "metadata": {},
   "outputs": [
    {
     "data": {
      "text/html": [
       "<pre style=\"word-wrap: normal;white-space: pre;background: #fff0;line-height: 1.1;font-family: &quot;Courier New&quot;,Courier,monospace\">     ┌─┐      \n",
       "q_0: ┤M├──────\n",
       "     └╥┘┌─┐   \n",
       "q_1: ─╫─┤M├───\n",
       "      ║ └╥┘┌─┐\n",
       "q_2: ─╫──╫─┤M├\n",
       "      ║  ║ └╥┘\n",
       "c: 3/═╩══╩══╩═\n",
       "      0  1  2 </pre>"
      ],
      "text/plain": [
       "     ┌─┐      \n",
       "q_0: ┤M├──────\n",
       "     └╥┘┌─┐   \n",
       "q_1: ─╫─┤M├───\n",
       "      ║ └╥┘┌─┐\n",
       "q_2: ─╫──╫─┤M├\n",
       "      ║  ║ └╥┘\n",
       "c: 3/═╩══╩══╩═\n",
       "      0  1  2 "
      ]
     },
     "execution_count": 3,
     "metadata": {},
     "output_type": "execute_result"
    }
   ],
   "source": [
    "# add measuring gates\n",
    "qc.measure(qubit = [0,1,2], cbit = [0,1,2])\n",
    "qc.draw()"
   ]
  },
  {
   "cell_type": "code",
   "execution_count": 4,
   "id": "42660c51",
   "metadata": {},
   "outputs": [],
   "source": [
    "# run the circuit\n",
    "from qiskit.providers.aer import AerSimulator\n",
    "sim = AerSimulator() "
   ]
  },
  {
   "cell_type": "markdown",
   "id": "56f235fb",
   "metadata": {},
   "source": [
    "https://qiskit.org/documentation/stubs/qiskit.providers.aer.AerSimulator.html"
   ]
  },
  {
   "cell_type": "code",
   "execution_count": 5,
   "id": "83e21354",
   "metadata": {},
   "outputs": [
    {
     "data": {
      "text/plain": [
       "{'000': 1024}"
      ]
     },
     "execution_count": 5,
     "metadata": {},
     "output_type": "execute_result"
    }
   ],
   "source": [
    "job = sim.run(qc) # run the experiment\n",
    "result = job.result() # get the result\n",
    "result.get_counts() # interpret the results as a \"counts\" dict"
   ]
  },
  {
   "cell_type": "markdown",
   "id": "0bb2ba42",
   "metadata": {},
   "source": [
    "Result:\n",
    "\n",
    "keys -> bit-strings representing the combination of qubits being measured<br>\n",
    "values -> the number of times that bit-string was measured\n",
    "\n",
    "we can see that all qubits start as state '0'"
   ]
  },
  {
   "cell_type": "markdown",
   "id": "377406be",
   "metadata": {},
   "source": [
    "we're gonna need to get result from quantum circuit very often, so i'll write a function for it"
   ]
  },
  {
   "cell_type": "code",
   "execution_count": 6,
   "id": "22b0a5de",
   "metadata": {},
   "outputs": [],
   "source": [
    "def getQCResult(qc):\n",
    "    sim = AerSimulator() \n",
    "    job = sim.run(qc) \n",
    "    result = job.result()\n",
    "    print(\"Result: \", result.get_counts())"
   ]
  },
  {
   "cell_type": "markdown",
   "id": "f89b321d",
   "metadata": {},
   "source": [
    "## Encoding an input"
   ]
  },
  {
   "cell_type": "code",
   "execution_count": 7,
   "id": "8eadea5b",
   "metadata": {},
   "outputs": [
    {
     "data": {
      "text/html": [
       "<pre style=\"word-wrap: normal;white-space: pre;background: #fff0;line-height: 1.1;font-family: &quot;Courier New&quot;,Courier,monospace\">     ┌───┐┌─┐   \n",
       "q_0: ┤ X ├┤M├───\n",
       "     ├───┤└╥┘┌─┐\n",
       "q_1: ┤ X ├─╫─┤M├\n",
       "     └┬─┬┘ ║ └╥┘\n",
       "q_2: ─┤M├──╫──╫─\n",
       "      └╥┘  ║  ║ \n",
       "c: 3/══╩═══╩══╩═\n",
       "       2   0  1 </pre>"
      ],
      "text/plain": [
       "     ┌───┐┌─┐   \n",
       "q_0: ┤ X ├┤M├───\n",
       "     ├───┤└╥┘┌─┐\n",
       "q_1: ┤ X ├─╫─┤M├\n",
       "     └┬─┬┘ ║ └╥┘\n",
       "q_2: ─┤M├──╫──╫─\n",
       "      └╥┘  ║  ║ \n",
       "c: 3/══╩═══╩══╩═\n",
       "       2   0  1 "
      ]
     },
     "execution_count": 7,
     "metadata": {},
     "output_type": "execute_result"
    }
   ],
   "source": [
    "qc = QuantumCircuit(3, 3)\n",
    "qc.x([0,1])  # Perform X-gates on qubits 0 & 1\n",
    "qc.measure([0,1,2], [0,1,2])\n",
    "qc.draw()    # returns a drawing of the circuit"
   ]
  },
  {
   "cell_type": "code",
   "execution_count": 8,
   "id": "3fc730b3",
   "metadata": {},
   "outputs": [
    {
     "name": "stdout",
     "output_type": "stream",
     "text": [
      "Result:  {'011': 1024}\n"
     ]
    }
   ],
   "source": [
    "getQCResult(qc)"
   ]
  },
  {
   "cell_type": "markdown",
   "id": "abe0ce57",
   "metadata": {},
   "source": [
    "'011' -> 3"
   ]
  },
  {
   "cell_type": "markdown",
   "id": "f4b03b24",
   "metadata": {},
   "source": [
    "### Exercise 1: encode 5"
   ]
  },
  {
   "cell_type": "code",
   "execution_count": 9,
   "id": "cf69b081",
   "metadata": {},
   "outputs": [
    {
     "data": {
      "text/html": [
       "<pre style=\"word-wrap: normal;white-space: pre;background: #fff0;line-height: 1.1;font-family: &quot;Courier New&quot;,Courier,monospace\">     ┌───┐   ┌─┐   \n",
       "q_0: ┤ X ├───┤M├───\n",
       "     └───┘┌─┐└╥┘   \n",
       "q_1: ─────┤M├─╫────\n",
       "     ┌───┐└╥┘ ║ ┌─┐\n",
       "q_2: ┤ X ├─╫──╫─┤M├\n",
       "     └───┘ ║  ║ └╥┘\n",
       "c: 3/══════╩══╩══╩═\n",
       "           1  0  2 </pre>"
      ],
      "text/plain": [
       "     ┌───┐   ┌─┐   \n",
       "q_0: ┤ X ├───┤M├───\n",
       "     └───┘┌─┐└╥┘   \n",
       "q_1: ─────┤M├─╫────\n",
       "     ┌───┐└╥┘ ║ ┌─┐\n",
       "q_2: ┤ X ├─╫──╫─┤M├\n",
       "     └───┘ ║  ║ └╥┘\n",
       "c: 3/══════╩══╩══╩═\n",
       "           1  0  2 "
      ]
     },
     "execution_count": 9,
     "metadata": {},
     "output_type": "execute_result"
    }
   ],
   "source": [
    "qc = QuantumCircuit(3, 3)\n",
    "qc.x([0,2]) \n",
    "qc.measure([0,1,2], [0,1,2])\n",
    "qc.draw()"
   ]
  },
  {
   "cell_type": "code",
   "execution_count": 10,
   "id": "d3a6cd03",
   "metadata": {},
   "outputs": [
    {
     "name": "stdout",
     "output_type": "stream",
     "text": [
      "Result:  {'101': 1024}\n"
     ]
    }
   ],
   "source": [
    "getQCResult(qc)"
   ]
  },
  {
   "cell_type": "markdown",
   "id": "286078d7",
   "metadata": {},
   "source": [
    "let's try to mix the order of NOT gates (parameter of x method) and Measure gates (parameter of measure method)"
   ]
  },
  {
   "cell_type": "code",
   "execution_count": 11,
   "id": "cd136784",
   "metadata": {},
   "outputs": [
    {
     "data": {
      "text/html": [
       "<pre style=\"word-wrap: normal;white-space: pre;background: #fff0;line-height: 1.1;font-family: &quot;Courier New&quot;,Courier,monospace\">     ┌───┐      ┌─┐\n",
       "q_0: ┤ X ├──────┤M├\n",
       "     └───┘┌─┐   └╥┘\n",
       "q_1: ─────┤M├────╫─\n",
       "     ┌───┐└╥┘┌─┐ ║ \n",
       "q_2: ┤ X ├─╫─┤M├─╫─\n",
       "     └───┘ ║ └╥┘ ║ \n",
       "c: 3/══════╩══╩══╩═\n",
       "           1  2  0 </pre>"
      ],
      "text/plain": [
       "     ┌───┐      ┌─┐\n",
       "q_0: ┤ X ├──────┤M├\n",
       "     └───┘┌─┐   └╥┘\n",
       "q_1: ─────┤M├────╫─\n",
       "     ┌───┐└╥┘┌─┐ ║ \n",
       "q_2: ┤ X ├─╫─┤M├─╫─\n",
       "     └───┘ ║ └╥┘ ║ \n",
       "c: 3/══════╩══╩══╩═\n",
       "           1  2  0 "
      ]
     },
     "execution_count": 11,
     "metadata": {},
     "output_type": "execute_result"
    }
   ],
   "source": [
    "qc = QuantumCircuit(3, 3)\n",
    "qc.x([2,0]) \n",
    "qc.measure([2,0,1], [2,0,1])\n",
    "qc.draw()"
   ]
  },
  {
   "cell_type": "code",
   "execution_count": 12,
   "id": "fd60e1c8",
   "metadata": {},
   "outputs": [
    {
     "name": "stdout",
     "output_type": "stream",
     "text": [
      "Result:  {'101': 1024}\n"
     ]
    }
   ],
   "source": [
    "getQCResult(qc)"
   ]
  },
  {
   "cell_type": "markdown",
   "id": "18d064ad",
   "metadata": {},
   "source": [
    "the simulation result is consistent but somehow the order of Measure gates in the result of draw method is not the same - which is understandable in itself but can't think of the rule of the order based on just the method parameters."
   ]
  },
  {
   "cell_type": "markdown",
   "id": "6b6357d7",
   "metadata": {},
   "source": [
    "### Exercise2: encode 4, by modifying above circuit"
   ]
  },
  {
   "cell_type": "code",
   "execution_count": 13,
   "id": "c9add85d",
   "metadata": {},
   "outputs": [
    {
     "data": {
      "text/html": [
       "<pre style=\"word-wrap: normal;white-space: pre;background: #fff0;line-height: 1.1;font-family: &quot;Courier New&quot;,Courier,monospace\">     ┌───┐      ┌─┐┌───┐   ┌─┐\n",
       "q_0: ┤ X ├──────┤M├┤ X ├───┤M├\n",
       "     └───┘┌─┐   └╥┘└┬─┬┘   └╥┘\n",
       "q_1: ─────┤M├────╫──┤M├─────╫─\n",
       "     ┌───┐└╥┘┌─┐ ║  └╥┘ ┌─┐ ║ \n",
       "q_2: ┤ X ├─╫─┤M├─╫───╫──┤M├─╫─\n",
       "     └───┘ ║ └╥┘ ║   ║  └╥┘ ║ \n",
       "c: 3/══════╩══╩══╩═══╩═══╩══╩═\n",
       "           1  2  0   1   2  0 </pre>"
      ],
      "text/plain": [
       "     ┌───┐      ┌─┐┌───┐   ┌─┐\n",
       "q_0: ┤ X ├──────┤M├┤ X ├───┤M├\n",
       "     └───┘┌─┐   └╥┘└┬─┬┘   └╥┘\n",
       "q_1: ─────┤M├────╫──┤M├─────╫─\n",
       "     ┌───┐└╥┘┌─┐ ║  └╥┘ ┌─┐ ║ \n",
       "q_2: ┤ X ├─╫─┤M├─╫───╫──┤M├─╫─\n",
       "     └───┘ ║ └╥┘ ║   ║  └╥┘ ║ \n",
       "c: 3/══════╩══╩══╩═══╩═══╩══╩═\n",
       "           1  2  0   1   2  0 "
      ]
     },
     "execution_count": 13,
     "metadata": {},
     "output_type": "execute_result"
    }
   ],
   "source": [
    "qc.x([0])\n",
    "qc.measure([0,1,2],[0,1,2])\n",
    "qc.draw()"
   ]
  },
  {
   "cell_type": "code",
   "execution_count": 14,
   "id": "4e7e0279",
   "metadata": {
    "scrolled": true
   },
   "outputs": [
    {
     "name": "stdout",
     "output_type": "stream",
     "text": [
      "Result:  {'100': 1024}\n"
     ]
    }
   ],
   "source": [
    "getQCResult(qc)"
   ]
  },
  {
   "cell_type": "markdown",
   "id": "eb489e54",
   "metadata": {},
   "source": [
    "### Experiment: messing with Measure gates order"
   ]
  },
  {
   "cell_type": "code",
   "execution_count": 15,
   "id": "fc72d244",
   "metadata": {},
   "outputs": [
    {
     "data": {
      "text/html": [
       "<pre style=\"word-wrap: normal;white-space: pre;background: #fff0;line-height: 1.1;font-family: &quot;Courier New&quot;,Courier,monospace\">          ┌─┐   \n",
       "q_0: ─────┤M├───\n",
       "     ┌───┐└╥┘┌─┐\n",
       "q_1: ┤ X ├─╫─┤M├\n",
       "     └┬─┬┘ ║ └╥┘\n",
       "q_2: ─┤M├──╫──╫─\n",
       "      └╥┘  ║  ║ \n",
       "c: 3/══╩═══╩══╩═\n",
       "       1   0  2 </pre>"
      ],
      "text/plain": [
       "          ┌─┐   \n",
       "q_0: ─────┤M├───\n",
       "     ┌───┐└╥┘┌─┐\n",
       "q_1: ┤ X ├─╫─┤M├\n",
       "     └┬─┬┘ ║ └╥┘\n",
       "q_2: ─┤M├──╫──╫─\n",
       "      └╥┘  ║  ║ \n",
       "c: 3/══╩═══╩══╩═\n",
       "       1   0  2 "
      ]
     },
     "execution_count": 15,
     "metadata": {},
     "output_type": "execute_result"
    }
   ],
   "source": [
    "# messing with measure\n",
    "qc = QuantumCircuit(3, 3)\n",
    "qc.x([1])\n",
    "qc.measure([0,1,2],[0,2,1])\n",
    "qc.draw()"
   ]
  },
  {
   "cell_type": "code",
   "execution_count": 16,
   "id": "7207a287",
   "metadata": {},
   "outputs": [
    {
     "name": "stdout",
     "output_type": "stream",
     "text": [
      "Result:  {'100': 1024}\n"
     ]
    }
   ],
   "source": [
    "getQCResult(qc)"
   ]
  },
  {
   "cell_type": "markdown",
   "id": "46c22381",
   "metadata": {},
   "source": [
    "As expected - the 1st and 2nd qubit is measured in switched order"
   ]
  },
  {
   "cell_type": "markdown",
   "id": "ee2d14f6",
   "metadata": {},
   "source": [
    "## XOR: controlled-not-gate"
   ]
  },
  {
   "cell_type": "code",
   "execution_count": 17,
   "id": "f9a36314",
   "metadata": {},
   "outputs": [
    {
     "data": {
      "text/html": [
       "<pre style=\"word-wrap: normal;white-space: pre;background: #fff0;line-height: 1.1;font-family: &quot;Courier New&quot;,Courier,monospace\">     ┌───┐     ┌─┐   \n",
       "q_0: ┤ X ├──■──┤M├───\n",
       "     └───┘┌─┴─┐└╥┘┌─┐\n",
       "q_1: ─────┤ X ├─╫─┤M├\n",
       "          └───┘ ║ └╥┘\n",
       "c: 2/═══════════╩══╩═\n",
       "                0  1 </pre>"
      ],
      "text/plain": [
       "     ┌───┐     ┌─┐   \n",
       "q_0: ┤ X ├──■──┤M├───\n",
       "     └───┘┌─┴─┐└╥┘┌─┐\n",
       "q_1: ─────┤ X ├─╫─┤M├\n",
       "          └───┘ ║ └╥┘\n",
       "c: 2/═══════════╩══╩═\n",
       "                0  1 "
      ]
     },
     "metadata": {},
     "output_type": "display_data"
    }
   ],
   "source": [
    "# Create quantum circuit with 2 qubits and 2 classical bits\n",
    "qc = QuantumCircuit(2, 2)\n",
    "qc.x(0)\n",
    "qc.cx(control_qubit = 0, target_qubit = 1)  # CNOT controlled by qubit 0 and targeting qubit 1\n",
    "qc.measure([0,1], [0,1])\n",
    "display(qc.draw())     # display a drawing of the circuit"
   ]
  },
  {
   "cell_type": "code",
   "execution_count": 18,
   "id": "668cd1f2",
   "metadata": {},
   "outputs": [
    {
     "name": "stdout",
     "output_type": "stream",
     "text": [
      "Result:  {'11': 1024}\n"
     ]
    }
   ],
   "source": [
    "getQCResult(qc)"
   ]
  },
  {
   "cell_type": "markdown",
   "id": "94b36530",
   "metadata": {},
   "source": [
    "The control qubit is unaffected, while the target qubit is 'overwritten' by CNOT/XOR gate"
   ]
  },
  {
   "cell_type": "markdown",
   "id": "d2eddb60",
   "metadata": {},
   "source": [
    "What if we don't want to overwrite a qubit and store the result somewhere else?\n",
    "\n",
    "Add a new qubit"
   ]
  },
  {
   "cell_type": "code",
   "execution_count": 19,
   "id": "5468412d",
   "metadata": {},
   "outputs": [
    {
     "data": {
      "text/html": [
       "<pre style=\"word-wrap: normal;white-space: pre;background: #fff0;line-height: 1.1;font-family: &quot;Courier New&quot;,Courier,monospace\">     ┌───┐             \n",
       "q_0: ┤ X ├──■──────────\n",
       "     ├───┤  │          \n",
       "q_1: ┤ X ├──┼────■─────\n",
       "     └───┘┌─┴─┐┌─┴─┐┌─┐\n",
       "q_2: ─────┤ X ├┤ X ├┤M├\n",
       "          └───┘└───┘└╥┘\n",
       "c: 1/════════════════╩═\n",
       "                     0 </pre>"
      ],
      "text/plain": [
       "     ┌───┐             \n",
       "q_0: ┤ X ├──■──────────\n",
       "     ├───┤  │          \n",
       "q_1: ┤ X ├──┼────■─────\n",
       "     └───┘┌─┴─┐┌─┴─┐┌─┐\n",
       "q_2: ─────┤ X ├┤ X ├┤M├\n",
       "          └───┘└───┘└╥┘\n",
       "c: 1/════════════════╩═\n",
       "                     0 "
      ]
     },
     "metadata": {},
     "output_type": "display_data"
    }
   ],
   "source": [
    "qc = QuantumCircuit(3, 1)\n",
    "qc.x(1) \n",
    "qc.x(0)\n",
    "qc.cx(0,2)\n",
    "qc.cx(1,2)\n",
    "qc.measure([2],[0])\n",
    "display(qc.draw())"
   ]
  },
  {
   "cell_type": "code",
   "execution_count": 20,
   "id": "06f95cb2",
   "metadata": {},
   "outputs": [
    {
     "name": "stdout",
     "output_type": "stream",
     "text": [
      "Result:  {'0': 1024}\n"
     ]
    }
   ],
   "source": [
    "getQCResult(qc)"
   ]
  },
  {
   "cell_type": "code",
   "execution_count": 21,
   "id": "4c6ca0fc",
   "metadata": {},
   "outputs": [],
   "source": [
    " def XOR(x, y):\n",
    "    qc = QuantumCircuit(3, 1)\n",
    "    if x:\n",
    "        qc.x(0)\n",
    "    if y:\n",
    "        qc.x(1)\n",
    "    qc.cx(0,2)\n",
    "    qc.cx(1,2)\n",
    "    qc.measure([2],[0])\n",
    "    getQCResult(qc)"
   ]
  },
  {
   "cell_type": "code",
   "execution_count": 22,
   "id": "2442071b",
   "metadata": {},
   "outputs": [
    {
     "name": "stdout",
     "output_type": "stream",
     "text": [
      "Result:  {'0': 1024}\n"
     ]
    }
   ],
   "source": [
    "XOR(0,0)"
   ]
  },
  {
   "cell_type": "code",
   "execution_count": 23,
   "id": "4c32c8ce",
   "metadata": {},
   "outputs": [
    {
     "name": "stdout",
     "output_type": "stream",
     "text": [
      "Result:  {'1': 1024}\n"
     ]
    }
   ],
   "source": [
    "XOR(0,1)"
   ]
  },
  {
   "cell_type": "code",
   "execution_count": 24,
   "id": "c2c1f7d2",
   "metadata": {},
   "outputs": [
    {
     "name": "stdout",
     "output_type": "stream",
     "text": [
      "Result:  {'1': 1024}\n"
     ]
    }
   ],
   "source": [
    "XOR(1,0)"
   ]
  },
  {
   "cell_type": "code",
   "execution_count": 25,
   "id": "0edc1f1d",
   "metadata": {},
   "outputs": [
    {
     "name": "stdout",
     "output_type": "stream",
     "text": [
      "Result:  {'0': 1024}\n"
     ]
    }
   ],
   "source": [
    "XOR(1,1)"
   ]
  },
  {
   "cell_type": "markdown",
   "id": "224e3cbc",
   "metadata": {},
   "source": [
    "## Adder - using Toffoli (AND) gate"
   ]
  },
  {
   "cell_type": "code",
   "execution_count": 26,
   "id": "f0b58a18",
   "metadata": {},
   "outputs": [
    {
     "data": {
      "text/html": [
       "<pre style=\"word-wrap: normal;white-space: pre;background: #fff0;line-height: 1.1;font-family: &quot;Courier New&quot;,Courier,monospace\">     ┌───┐                     \n",
       "q_0: ┤ X ├──■─────────■────────\n",
       "     ├───┤  │         │        \n",
       "q_1: ┤ X ├──┼────■────■────────\n",
       "     └───┘┌─┴─┐┌─┴─┐  │  ┌─┐   \n",
       "q_2: ─────┤ X ├┤ X ├──┼──┤M├───\n",
       "          └───┘└───┘┌─┴─┐└╥┘┌─┐\n",
       "q_3: ───────────────┤ X ├─╫─┤M├\n",
       "                    └───┘ ║ └╥┘\n",
       "c: 2/═════════════════════╩══╩═\n",
       "                          0  1 </pre>"
      ],
      "text/plain": [
       "     ┌───┐                     \n",
       "q_0: ┤ X ├──■─────────■────────\n",
       "     ├───┤  │         │        \n",
       "q_1: ┤ X ├──┼────■────■────────\n",
       "     └───┘┌─┴─┐┌─┴─┐  │  ┌─┐   \n",
       "q_2: ─────┤ X ├┤ X ├──┼──┤M├───\n",
       "          └───┘└───┘┌─┴─┐└╥┘┌─┐\n",
       "q_3: ───────────────┤ X ├─╫─┤M├\n",
       "                    └───┘ ║ └╥┘\n",
       "c: 2/═════════════════════╩══╩═\n",
       "                          0  1 "
      ]
     },
     "metadata": {},
     "output_type": "display_data"
    }
   ],
   "source": [
    "qc = QuantumCircuit(4, 2)\n",
    "# input\n",
    "qc.x(0)\n",
    "qc.x(1)\n",
    "# last digit\n",
    "qc.cx(0,2)\n",
    "qc.cx(1,2)\n",
    "# front digit\n",
    "qc.ccx(0,1,3) # Toffoli gate\n",
    "qc.measure([2,3],[0,1])\n",
    "display(qc.draw())"
   ]
  },
  {
   "cell_type": "code",
   "execution_count": 27,
   "id": "9fcf3897",
   "metadata": {},
   "outputs": [
    {
     "name": "stdout",
     "output_type": "stream",
     "text": [
      "Result:  {'10': 1024}\n"
     ]
    }
   ],
   "source": [
    "getQCResult(qc)"
   ]
  },
  {
   "cell_type": "code",
   "execution_count": 28,
   "id": "5b3cfc01",
   "metadata": {},
   "outputs": [],
   "source": [
    "def Add(x, y):\n",
    "    qc = QuantumCircuit(4, 2)\n",
    "    # input\n",
    "    if x:\n",
    "        qc.x(0)\n",
    "    if y:\n",
    "        qc.x(1)\n",
    "    # last digit\n",
    "    qc.cx(0,2)\n",
    "    qc.cx(1,2)\n",
    "    # front digit\n",
    "    qc.ccx(0,1,3)\n",
    "    qc.measure([2,3],[0,1])\n",
    "    getQCResult(qc)"
   ]
  },
  {
   "cell_type": "code",
   "execution_count": 29,
   "id": "fb750d54",
   "metadata": {},
   "outputs": [
    {
     "name": "stdout",
     "output_type": "stream",
     "text": [
      "Result:  {'00': 1024}\n"
     ]
    }
   ],
   "source": [
    "Add(0,0)"
   ]
  },
  {
   "cell_type": "code",
   "execution_count": 30,
   "id": "c342a008",
   "metadata": {},
   "outputs": [
    {
     "name": "stdout",
     "output_type": "stream",
     "text": [
      "Result:  {'01': 1024}\n"
     ]
    }
   ],
   "source": [
    "Add(0,1)"
   ]
  },
  {
   "cell_type": "code",
   "execution_count": 31,
   "id": "907ade1a",
   "metadata": {},
   "outputs": [
    {
     "name": "stdout",
     "output_type": "stream",
     "text": [
      "Result:  {'01': 1024}\n"
     ]
    }
   ],
   "source": [
    "Add(1,0)"
   ]
  },
  {
   "cell_type": "code",
   "execution_count": 32,
   "id": "30efa9ec",
   "metadata": {},
   "outputs": [
    {
     "name": "stdout",
     "output_type": "stream",
     "text": [
      "Result:  {'10': 1024}\n"
     ]
    }
   ],
   "source": [
    "Add(1,1)"
   ]
  }
 ],
 "metadata": {
  "kernelspec": {
   "display_name": "Python 3.8.10 64-bit",
   "language": "python",
   "name": "python3810jvsc74a57bd0916dbcbb3f70747c44a77c7bcd40155683ae19c65e1c03b4aa3499c5328201f1"
  },
  "language_info": {
   "codemirror_mode": {
    "name": "ipython",
    "version": 3
   },
   "file_extension": ".py",
   "mimetype": "text/x-python",
   "name": "python",
   "nbconvert_exporter": "python",
   "pygments_lexer": "ipython3",
   "version": "3.8.10"
  }
 },
 "nbformat": 4,
 "nbformat_minor": 5
}

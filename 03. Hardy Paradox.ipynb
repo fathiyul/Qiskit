{
 "cells": [
  {
   "cell_type": "code",
   "execution_count": 1,
   "id": "229179a5",
   "metadata": {},
   "outputs": [],
   "source": [
    "from qiskit import QuantumCircuit\n",
    "\n",
    "from qiskit import Aer\n",
    "backend = Aer.get_backend('aer_simulator')\n",
    "\n",
    "from math import pi\n",
    "from qiskit.visualization import plot_histogram"
   ]
  },
  {
   "cell_type": "markdown",
   "id": "77539fd5",
   "metadata": {},
   "source": [
    "## Measurements"
   ]
  },
  {
   "cell_type": "markdown",
   "id": "01f5cd84",
   "metadata": {},
   "source": [
    "first, x-measurement: adding H gate before measure gate"
   ]
  },
  {
   "cell_type": "code",
   "execution_count": 2,
   "id": "69db8365",
   "metadata": {},
   "outputs": [
    {
     "data": {
      "image/png": "[encoded data removed]",
      "text/plain": [
       "<PIL.Image.Image image mode=RGB size=180x66 at 0x7F2BF823A5E0>"
      ]
     },
     "execution_count": 2,
     "metadata": {},
     "output_type": "execute_result"
    }
   ],
   "source": [
    "meas_x = QuantumCircuit(1,1)\n",
    "meas_x.h(0)\n",
    "meas_x.measure(0,0)\n",
    "\n",
    "meas_x.draw('latex')"
   ]
  },
  {
   "cell_type": "markdown",
   "id": "5974ac23",
   "metadata": {},
   "source": [
    "z-measurement: just a measure gate"
   ]
  },
  {
   "cell_type": "code",
   "execution_count": 3,
   "id": "ccdd59bd",
   "metadata": {},
   "outputs": [
    {
     "data": {
      "image/png": "[encoded data removed]",
      "text/plain": [
       "<PIL.Image.Image image mode=RGB size=152x82 at 0x7F2BF823A250>"
      ]
     },
     "execution_count": 3,
     "metadata": {},
     "output_type": "execute_result"
    }
   ],
   "source": [
    "meas_z = QuantumCircuit(1,1)\n",
    "meas_z.measure(0,0)\n",
    "\n",
    "meas_z.draw('latex')"
   ]
  },
  {
   "cell_type": "markdown",
   "id": "9b424218",
   "metadata": {},
   "source": [
    "there's also something called y-measurement, but we'll save it for later.<br>\n",
    "now do some measurement on different qubits/states"
   ]
  },
  {
   "cell_type": "code",
   "execution_count": 4,
   "id": "dc9f7b0c",
   "metadata": {},
   "outputs": [
    {
     "data": {
      "image/png": "[encoded data removed]",
      "text/plain": [
       "<PIL.Image.Image image mode=RGB size=73x56 at 0x7F2BFE5F9EE0>"
      ]
     },
     "execution_count": 4,
     "metadata": {},
     "output_type": "execute_result"
    }
   ],
   "source": [
    "# using |0>\n",
    "qc = QuantumCircuit(1,1)\n",
    "\n",
    "qc.draw('latex')"
   ]
  },
  {
   "cell_type": "code",
   "execution_count": 5,
   "id": "0e3cf6eb",
   "metadata": {},
   "outputs": [
    {
     "name": "stdout",
     "output_type": "stream",
     "text": [
      "Results from z measurement: {'0': 1024}\n",
      "Results from x measurement: {'0': 503, '1': 521}\n"
     ]
    }
   ],
   "source": [
    "print('Results from z measurement:',\n",
    "      backend.run(qc.compose(meas_z)).result().get_counts())\n",
    "print('Results from x measurement:',\n",
    "      backend.run(qc.compose(meas_x)).result().get_counts())"
   ]
  },
  {
   "cell_type": "code",
   "execution_count": 6,
   "id": "fa6646c3",
   "metadata": {},
   "outputs": [
    {
     "data": {
      "image/png": "[encoded data removed]",
      "text/plain": [
       "<PIL.Image.Image image mode=RGB size=122x55 at 0x7F2C39C139D0>"
      ]
     },
     "execution_count": 6,
     "metadata": {},
     "output_type": "execute_result"
    }
   ],
   "source": [
    "# using |1>\n",
    "qc = QuantumCircuit(1,1)\n",
    "qc.x(0)\n",
    "\n",
    "qc.draw('latex')"
   ]
  },
  {
   "cell_type": "code",
   "execution_count": 7,
   "id": "5590d515",
   "metadata": {},
   "outputs": [
    {
     "name": "stdout",
     "output_type": "stream",
     "text": [
      "Results from z measurement: {'1': 1024}\n",
      "Results from x measurement: {'1': 498, '0': 526}\n"
     ]
    }
   ],
   "source": [
    "for basis,circ in [('z', meas_z), ('x', meas_x)]:\n",
    "    print('Results from ' + basis + ' measurement:',\n",
    "      backend.run(qc.compose(circ)).result().get_counts())"
   ]
  },
  {
   "cell_type": "code",
   "execution_count": 8,
   "id": "7c18d5b1",
   "metadata": {},
   "outputs": [
    {
     "data": {
      "image/png": "[encoded data removed]",
      "text/plain": [
       "<PIL.Image.Image image mode=RGB size=122x55 at 0x7F2C514C8850>"
      ]
     },
     "execution_count": 8,
     "metadata": {},
     "output_type": "execute_result"
    }
   ],
   "source": [
    "# using |+>\n",
    "qc = QuantumCircuit(1,1)\n",
    "qc.h(0)\n",
    "\n",
    "qc.draw('latex')"
   ]
  },
  {
   "cell_type": "code",
   "execution_count": 9,
   "id": "c41cce4e",
   "metadata": {},
   "outputs": [
    {
     "name": "stdout",
     "output_type": "stream",
     "text": [
      "Results from z measurement: {'0': 477, '1': 547}\n",
      "Results from x measurement: {'0': 1024}\n"
     ]
    }
   ],
   "source": [
    "for basis,circ in [('z', meas_z), ('x', meas_x)]:\n",
    "    print('Results from ' + basis + ' measurement:',\n",
    "      backend.run(qc.compose(circ)).result().get_counts())"
   ]
  },
  {
   "cell_type": "code",
   "execution_count": 10,
   "id": "f02bab51",
   "metadata": {},
   "outputs": [
    {
     "data": {
      "image/png": "[encoded data removed]",
      "text/plain": [
       "<PIL.Image.Image image mode=RGB size=171x55 at 0x7F2C39C13AF0>"
      ]
     },
     "execution_count": 10,
     "metadata": {},
     "output_type": "execute_result"
    }
   ],
   "source": [
    "# using |->\n",
    "qc = QuantumCircuit(1,1)\n",
    "qc.x(0)\n",
    "qc.h(0)\n",
    "\n",
    "qc.draw('latex')"
   ]
  },
  {
   "cell_type": "code",
   "execution_count": 11,
   "id": "68a93b68",
   "metadata": {},
   "outputs": [
    {
     "name": "stdout",
     "output_type": "stream",
     "text": [
      "Results from z measurement: {'0': 507, '1': 517}\n",
      "Results from x measurement: {'1': 1024}\n"
     ]
    }
   ],
   "source": [
    "for basis,circ in [('z', meas_z), ('x', meas_x)]:\n",
    "    print('Results from ' + basis + ' measurement:',\n",
    "      backend.run(qc.compose(circ)).result().get_counts())"
   ]
  },
  {
   "cell_type": "markdown",
   "id": "ecc062cb",
   "metadata": {},
   "source": [
    "Let's do some rotations on y-axis"
   ]
  },
  {
   "cell_type": "code",
   "execution_count": 12,
   "id": "57d9a0c1",
   "metadata": {},
   "outputs": [
    {
     "data": {
      "image/png": "[encoded data removed]",
      "text/plain": [
       "<PIL.Image.Image image mode=RGB size=183x70 at 0x7F2C39C13460>"
      ]
     },
     "execution_count": 12,
     "metadata": {},
     "output_type": "execute_result"
    }
   ],
   "source": [
    "qc = QuantumCircuit(1, 1)\n",
    "qc.ry(-pi/4, 0)\n",
    "\n",
    "qc.draw('latex')"
   ]
  },
  {
   "cell_type": "code",
   "execution_count": 13,
   "id": "fd41e7af",
   "metadata": {},
   "outputs": [
    {
     "name": "stdout",
     "output_type": "stream",
     "text": [
      "Results from z measurement: {'1': 141, '0': 883}\n",
      "Results from x measurement: {'0': 120, '1': 904}\n"
     ]
    }
   ],
   "source": [
    "for basis,circ in [('z', meas_z), ('x', meas_x)]:\n",
    "    print('Results from ' + basis + ' measurement:',\n",
    "      backend.run(qc.compose(circ)).result().get_counts())"
   ]
  },
  {
   "cell_type": "markdown",
   "id": "44f3c1ea",
   "metadata": {},
   "source": [
    "## Unique quantum correlation"
   ]
  },
  {
   "cell_type": "code",
   "execution_count": 14,
   "id": "2882a291",
   "metadata": {},
   "outputs": [
    {
     "data": {
      "image/png": "[encoded data removed]",
      "text/plain": [
       "<PIL.Image.Image image mode=RGB size=544x103 at 0x7F2C39C13A60>"
      ]
     },
     "execution_count": 14,
     "metadata": {},
     "output_type": "execute_result"
    }
   ],
   "source": [
    "qc_charlie = QuantumCircuit(2,2)\n",
    "qc_charlie.ry(1.911,1)\n",
    "qc_charlie.cx(1,0)\n",
    "qc_charlie.ry(0.785,0)\n",
    "qc_charlie.cx(1,0)\n",
    "qc_charlie.ry(2.356,0)\n",
    "qc_charlie.draw('latex')"
   ]
  },
  {
   "cell_type": "code",
   "execution_count": 15,
   "id": "1d0d4f41",
   "metadata": {},
   "outputs": [
    {
     "data": {
      "image/png": "[encoded data removed]",
      "text/plain": [
       "<PIL.Image.Image image mode=RGB size=219x132 at 0x7F2C39C1E1F0>"
      ]
     },
     "execution_count": 15,
     "metadata": {},
     "output_type": "execute_result"
    }
   ],
   "source": [
    "meas_zz = QuantumCircuit(2,2)\n",
    "meas_zz.measure([0,1],[0,1])\n",
    "meas_zz.draw('latex')"
   ]
  },
  {
   "cell_type": "code",
   "execution_count": 16,
   "id": "c956e7d8",
   "metadata": {},
   "outputs": [
    {
     "name": "stdout",
     "output_type": "stream",
     "text": [
      "Results for z measurements:\n"
     ]
    },
    {
     "data": {
      "image/png": "[encoded data removed]",
      "text/plain": [
       "<Figure size 504x360 with 1 Axes>"
      ]
     },
     "execution_count": 16,
     "metadata": {},
     "output_type": "execute_result"
    }
   ],
   "source": [
    "print('Results for z measurements:')\n",
    "counts = backend.run(qc_charlie.compose(meas_zz)).result().get_counts()\n",
    "plot_histogram(counts)"
   ]
  },
  {
   "cell_type": "markdown",
   "id": "5989d7a5",
   "metadata": {},
   "source": [
    "(Observation A) Never found 00 from zz measurement"
   ]
  },
  {
   "cell_type": "code",
   "execution_count": 17,
   "id": "fe1fa51d",
   "metadata": {},
   "outputs": [
    {
     "data": {
      "image/png": "[encoded data removed]",
      "text/plain": [
       "<PIL.Image.Image image mode=RGB size=198x99 at 0x7F2C385C2E80>"
      ]
     },
     "execution_count": 17,
     "metadata": {},
     "output_type": "execute_result"
    }
   ],
   "source": [
    "meas_zx = QuantumCircuit(2,2)\n",
    "meas_zx.h(0)\n",
    "meas_zx.measure([0,1],[0,1])\n",
    "meas_zx.draw('latex')"
   ]
  },
  {
   "cell_type": "code",
   "execution_count": 18,
   "id": "9deecd34",
   "metadata": {},
   "outputs": [
    {
     "name": "stdout",
     "output_type": "stream",
     "text": [
      "Results for a z and an x measurement:\n"
     ]
    },
    {
     "data": {
      "image/png": "[encoded data removed]",
      "text/plain": [
       "<Figure size 504x360 with 1 Axes>"
      ]
     },
     "execution_count": 18,
     "metadata": {},
     "output_type": "execute_result"
    }
   ],
   "source": [
    "print('Results for a z and an x measurement:')\n",
    "counts = backend.run(qc_charlie.compose(meas_zx)).result().get_counts()\n",
    "plot_histogram(counts)"
   ]
  },
  {
   "cell_type": "code",
   "execution_count": 19,
   "id": "8b36388e",
   "metadata": {},
   "outputs": [
    {
     "data": {
      "image/png": "[encoded data removed]",
      "text/plain": [
       "<PIL.Image.Image image mode=RGB size=247x99 at 0x7F2C385854F0>"
      ]
     },
     "execution_count": 19,
     "metadata": {},
     "output_type": "execute_result"
    }
   ],
   "source": [
    "meas_xz = QuantumCircuit(2,2)\n",
    "meas_xz.h(1)\n",
    "meas_xz.measure([0,1],[0,1])\n",
    "meas_xz.draw('latex')"
   ]
  },
  {
   "cell_type": "code",
   "execution_count": 20,
   "id": "d532f8ea",
   "metadata": {},
   "outputs": [
    {
     "name": "stdout",
     "output_type": "stream",
     "text": [
      "Results for an x and a z measurement:\n"
     ]
    },
    {
     "data": {
      "image/png": "[encoded data removed]",
      "text/plain": [
       "<Figure size 504x360 with 1 Axes>"
      ]
     },
     "execution_count": 20,
     "metadata": {},
     "output_type": "execute_result"
    }
   ],
   "source": [
    "print('Results for an x and a z measurement:')\n",
    "counts = backend.run(qc_charlie.compose(meas_xz)).result().get_counts()\n",
    "plot_histogram(counts)"
   ]
  },
  {
   "cell_type": "markdown",
   "id": "05ea6433",
   "metadata": {},
   "source": [
    "(Observation B) never found 11 in either xz or zx measurement"
   ]
  },
  {
   "cell_type": "markdown",
   "id": "20e0179c",
   "metadata": {},
   "source": [
    "By logic*, we shouldn't find 11 in an xx measurement. Let's find out."
   ]
  },
  {
   "cell_type": "code",
   "execution_count": 21,
   "id": "a2ef5999",
   "metadata": {},
   "outputs": [
    {
     "data": {
      "image/png": "[encoded data removed]",
      "text/plain": [
       "<PIL.Image.Image image mode=RGB size=247x99 at 0x7F2C38559970>"
      ]
     },
     "execution_count": 21,
     "metadata": {},
     "output_type": "execute_result"
    }
   ],
   "source": [
    "meas_xx = QuantumCircuit(2,2)\n",
    "meas_xx.h([0,1])\n",
    "meas_xx.measure([0,1],[0,1])\n",
    "meas_xx.draw('latex')"
   ]
  },
  {
   "cell_type": "code",
   "execution_count": 22,
   "id": "56585bf9",
   "metadata": {},
   "outputs": [
    {
     "name": "stdout",
     "output_type": "stream",
     "text": [
      "Results for an x and an x measurement:\n"
     ]
    },
    {
     "data": {
      "image/png": "[encoded data removed]",
      "text/plain": [
       "<Figure size 504x360 with 1 Axes>"
      ]
     },
     "execution_count": 22,
     "metadata": {},
     "output_type": "execute_result"
    }
   ],
   "source": [
    "print('Results for an x and an x measurement:')\n",
    "counts = backend.run(qc_charlie.compose(meas_xx)).result().get_counts()\n",
    "plot_histogram(counts)"
   ]
  },
  {
   "cell_type": "markdown",
   "id": "9139e01d",
   "metadata": {},
   "source": [
    "The results of qubits are not well-defined before measurement. Though this might seem like it means that qubits are more random that classical variables, it is not always a negative quality. It also means that restrictions applied to classical variables do not always apply to qubits, and that quantum correlations can have properties that would be impossible classically. These unique correlations are one of the signature properties of entangled states.<br>\n",
    "(Words taken from Qiskit textbook)"
   ]
  },
  {
   "cell_type": "markdown",
   "id": "519bcea4",
   "metadata": {},
   "source": [
    "*explanation:<br>\n",
    "from observation A: there's no way for both qubits to be in state 0<br>\n",
    "from observation B: if one qubit is measured 1, the other must be 0:\n",
    "* if measured x of a qubit is 1, the other z must be 0\n",
    "* if measured z of a qubit is 1, the other x must be 0<br>\n",
    "\n",
    "from the first point, if both qubits x-measurement yield 1, then the z-measurement from both qubits must yield 0, which violates observation A."
   ]
  }
 ],
 "metadata": {
  "kernelspec": {
   "display_name": "Python 3.8.10 64-bit",
   "language": "python",
   "name": "python3810jvsc74a57bd0916dbcbb3f70747c44a77c7bcd40155683ae19c65e1c03b4aa3499c5328201f1"
  },
  "language_info": {
   "codemirror_mode": {
    "name": "ipython",
    "version": 3
   },
   "file_extension": ".py",
   "mimetype": "text/x-python",
   "name": "python",
   "nbconvert_exporter": "python",
   "pygments_lexer": "ipython3",
   "version": "3.8.10"
  }
 },
 "nbformat": 4,
 "nbformat_minor": 5
}

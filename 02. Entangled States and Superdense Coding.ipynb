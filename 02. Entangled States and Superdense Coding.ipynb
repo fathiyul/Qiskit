{
 "cells": [
  {
   "cell_type": "code",
   "execution_count": 1,
   "id": "229179a5",
   "metadata": {},
   "outputs": [],
   "source": [
    "from qiskit import QuantumCircuit\n",
    "from qiskit.quantum_info import Statevector\n",
    "\n",
    "from qiskit import Aer\n",
    "backend = Aer.get_backend('aer_simulator')"
   ]
  },
  {
   "cell_type": "markdown",
   "id": "77539fd5",
   "metadata": {},
   "source": [
    "## Intro\n",
    "let's start by drawing some kets and changing ket state using some gates\n",
    "for some reasons, i can't find ~/.qiskit in my laptop, so I'll add parameter inside each draw method"
   ]
  },
  {
   "cell_type": "code",
   "execution_count": 2,
   "id": "69db8365",
   "metadata": {},
   "outputs": [
    {
     "data": {
      "text/latex": [
       "$$ |00\\rangle$$"
      ],
      "text/plain": [
       "<IPython.core.display.Latex object>"
      ]
     },
     "execution_count": 2,
     "metadata": {},
     "output_type": "execute_result"
    }
   ],
   "source": [
    "qc = QuantumCircuit(2)\n",
    "\n",
    "# This calculates what the state vector of our qubits would be\n",
    "# after passing through the circuit 'qc'\n",
    "ket = Statevector(qc)\n",
    "\n",
    "# The code below writes down the state vector.\n",
    "# Since it's the last line in the cell, the cell will display it as output\n",
    "ket.draw('latex')"
   ]
  },
  {
   "cell_type": "code",
   "execution_count": 3,
   "id": "17177357",
   "metadata": {},
   "outputs": [
    {
     "data": {
      "text/latex": [
       "$$ |00\\rangle$$"
      ],
      "text/plain": [
       "<IPython.core.display.Latex object>"
      ]
     },
     "execution_count": 3,
     "metadata": {},
     "output_type": "execute_result"
    }
   ],
   "source": [
    "qc.cx(0,1)\n",
    "\n",
    "ket = Statevector(qc)\n",
    "ket.draw('latex')"
   ]
  },
  {
   "cell_type": "code",
   "execution_count": 4,
   "id": "0957f9df",
   "metadata": {},
   "outputs": [
    {
     "data": {
      "text/latex": [
       "$$ |00\\rangle$$"
      ],
      "text/plain": [
       "<IPython.core.display.Latex object>"
      ]
     },
     "execution_count": 4,
     "metadata": {},
     "output_type": "execute_result"
    }
   ],
   "source": [
    "qc.cx(1,0)\n",
    "\n",
    "ket = Statevector(qc)\n",
    "ket.draw('latex')"
   ]
  },
  {
   "cell_type": "code",
   "execution_count": 5,
   "id": "aaf1f1b5",
   "metadata": {},
   "outputs": [
    {
     "data": {
      "text/latex": [
       "$$ |10\\rangle$$"
      ],
      "text/plain": [
       "<IPython.core.display.Latex object>"
      ]
     },
     "execution_count": 5,
     "metadata": {},
     "output_type": "execute_result"
    }
   ],
   "source": [
    "qc.x(1,0)\n",
    "\n",
    "ket = Statevector(qc)\n",
    "ket.draw('latex')"
   ]
  },
  {
   "cell_type": "code",
   "execution_count": 6,
   "id": "3d182b8d",
   "metadata": {},
   "outputs": [
    {
     "data": {
      "text/latex": [
       "$$ |11\\rangle$$"
      ],
      "text/plain": [
       "<IPython.core.display.Latex object>"
      ]
     },
     "execution_count": 6,
     "metadata": {},
     "output_type": "execute_result"
    }
   ],
   "source": [
    "qc.cx(1,0)\n",
    "\n",
    "ket = Statevector(qc)\n",
    "ket.draw('latex')"
   ]
  },
  {
   "cell_type": "markdown",
   "id": "999f4dd3",
   "metadata": {},
   "source": [
    "## Create entanglement"
   ]
  },
  {
   "cell_type": "code",
   "execution_count": 7,
   "id": "8c04469d",
   "metadata": {},
   "outputs": [
    {
     "data": {
      "text/latex": [
       "$$\\frac{\\sqrt{2}}{2} |00\\rangle+\\frac{\\sqrt{2}}{2} |10\\rangle$$"
      ],
      "text/plain": [
       "<IPython.core.display.Latex object>"
      ]
     },
     "execution_count": 7,
     "metadata": {},
     "output_type": "execute_result"
    }
   ],
   "source": [
    "# Let's create a fresh quantum circuit\n",
    "qc = QuantumCircuit(2)\n",
    "\n",
    "qc.h(1)\n",
    "\n",
    "ket = Statevector(qc)\n",
    "ket.draw('latex')"
   ]
  },
  {
   "cell_type": "code",
   "execution_count": 8,
   "id": "42660c51",
   "metadata": {},
   "outputs": [
    {
     "data": {
      "text/latex": [
       "$$\\frac{\\sqrt{2}}{2} |00\\rangle+\\frac{\\sqrt{2}}{2} |11\\rangle$$"
      ],
      "text/plain": [
       "<IPython.core.display.Latex object>"
      ]
     },
     "execution_count": 8,
     "metadata": {},
     "output_type": "execute_result"
    }
   ],
   "source": [
    "qc.cx(1,0)\n",
    "\n",
    "ket = Statevector(qc)\n",
    "ket.draw('latex')"
   ]
  },
  {
   "cell_type": "markdown",
   "id": "e0d2245f",
   "metadata": {},
   "source": [
    "and that, is an entangled state"
   ]
  },
  {
   "cell_type": "markdown",
   "id": "63317407",
   "metadata": {},
   "source": [
    "## Superdense coding"
   ]
  },
  {
   "cell_type": "markdown",
   "id": "2b02cf8c",
   "metadata": {},
   "source": [
    "Intro to sending and receiving messages"
   ]
  },
  {
   "cell_type": "code",
   "execution_count": 9,
   "id": "2ec76c0b",
   "metadata": {},
   "outputs": [
    {
     "data": {
      "image/png": "[encoded data removed]",
      "text/plain": [
       "<Figure size 146.652x204.68 with 1 Axes>"
      ]
     },
     "execution_count": 9,
     "metadata": {},
     "output_type": "execute_result"
    }
   ],
   "source": [
    "# The message - play with it\n",
    "MESSAGE = '01'\n",
    "\n",
    "# Alice encodes the message\n",
    "qc_alice = QuantumCircuit(2, 2)\n",
    "if MESSAGE[-1]=='1':\n",
    "    qc_alice.x(0)\n",
    "if MESSAGE[-2]=='1':\n",
    "    qc_alice.x(1)\n",
    "    \n",
    "qc_alice.draw('mpl')"
   ]
  },
  {
   "cell_type": "code",
   "execution_count": 10,
   "id": "23d01cee",
   "metadata": {},
   "outputs": [
    {
     "data": {
      "image/png": "[encoded data removed]",
      "text/plain": [
       "<Figure size 206.852x204.68 with 1 Axes>"
      ]
     },
     "execution_count": 10,
     "metadata": {},
     "output_type": "execute_result"
    }
   ],
   "source": [
    "# Bob measures\n",
    "qc_bob = QuantumCircuit(2,2)\n",
    "qc_bob.measure([1,0],[1,0])\n",
    "\n",
    "qc_bob.draw('mpl')"
   ]
  },
  {
   "cell_type": "code",
   "execution_count": 11,
   "id": "bff461a3",
   "metadata": {},
   "outputs": [
    {
     "data": {
      "image/png": "[encoded data removed]",
      "text/plain": [
       "<PIL.Image.Image image mode=RGB size=198x99 at 0x7FC612D15F10>"
      ]
     },
     "execution_count": 11,
     "metadata": {},
     "output_type": "execute_result"
    }
   ],
   "source": [
    "qc_alice.compose(qc_bob).draw('latex')"
   ]
  },
  {
   "cell_type": "code",
   "execution_count": 12,
   "id": "84857304",
   "metadata": {},
   "outputs": [
    {
     "data": {
      "text/plain": [
       "{'01': 1024}"
      ]
     },
     "execution_count": 12,
     "metadata": {},
     "output_type": "execute_result"
    }
   ],
   "source": [
    "backend.run(qc_alice.compose(qc_bob)).result().get_counts()"
   ]
  },
  {
   "cell_type": "code",
   "execution_count": 13,
   "id": "f79f3edc",
   "metadata": {},
   "outputs": [
    {
     "data": {
      "text/plain": [
       "{'01': 1024}"
      ]
     },
     "execution_count": 13,
     "metadata": {},
     "output_type": "execute_result"
    }
   ],
   "source": [
    "qc_compose = qc_alice.compose(qc_bob)\n",
    "backend.run(qc_compose).result().get_counts()"
   ]
  },
  {
   "cell_type": "markdown",
   "id": "9c6ea492",
   "metadata": {},
   "source": [
    "Now add some entanglement - one way is to add cx gate after h gate"
   ]
  },
  {
   "cell_type": "code",
   "execution_count": 14,
   "id": "a881cc8c",
   "metadata": {},
   "outputs": [
    {
     "data": {
      "text/latex": [
       "$$\\frac{\\sqrt{2}}{2} |01\\rangle+\\frac{\\sqrt{2}}{2} |10\\rangle$$"
      ],
      "text/plain": [
       "<IPython.core.display.Latex object>"
      ]
     },
     "execution_count": 14,
     "metadata": {},
     "output_type": "execute_result"
    }
   ],
   "source": [
    "MESSAGE = '01'\n",
    "\n",
    "qc_alice = QuantumCircuit(2,2)\n",
    "\n",
    "# Alice encodes the message\n",
    "if MESSAGE[-1]=='1':\n",
    "    qc_alice.x(0)\n",
    "if MESSAGE[-2]=='1':\n",
    "    qc_alice.x(1)\n",
    "\n",
    "# then she creates entangled states\n",
    "qc_alice.h(1)\n",
    "qc_alice.cx(1,0)\n",
    "\n",
    "ket = Statevector(qc_alice)\n",
    "ket.draw('latex')"
   ]
  },
  {
   "cell_type": "code",
   "execution_count": 15,
   "id": "c5009865",
   "metadata": {},
   "outputs": [
    {
     "data": {
      "image/png": "[encoded data removed]",
      "text/plain": [
       "<PIL.Image.Image image mode=RGB size=168x86 at 0x7FC612C26250>"
      ]
     },
     "execution_count": 15,
     "metadata": {},
     "output_type": "execute_result"
    }
   ],
   "source": [
    "qc_alice.draw('latex')"
   ]
  },
  {
   "cell_type": "markdown",
   "id": "4cf5eb65",
   "metadata": {},
   "source": [
    "Using above message encoding and circuit, Alice converts 2-qubit messages into entangled state:\n",
    "![alt text](images/image1.png \"message to entangled state\")\n",
    "which then Bob untangle it by doing the 'inverse'"
   ]
  },
  {
   "cell_type": "code",
   "execution_count": 16,
   "id": "7bb3c577",
   "metadata": {},
   "outputs": [
    {
     "data": {
      "text/plain": [
       "{'01': 1024}"
      ]
     },
     "execution_count": 16,
     "metadata": {},
     "output_type": "execute_result"
    }
   ],
   "source": [
    "qc_bob = QuantumCircuit(2,2)\n",
    "# Bob untangles\n",
    "qc_bob.cx(1,0)\n",
    "qc_bob.h(1)\n",
    "# Then measures\n",
    "qc_bob.measure([0,1],[0,1])\n",
    "\n",
    "backend.run(qc_alice.compose(qc_bob)).result().get_counts()"
   ]
  },
  {
   "cell_type": "markdown",
   "id": "7b422e5a",
   "metadata": {},
   "source": [
    "But above method doesn't take the advantage of entanglement.\n",
    "Here's how"
   ]
  },
  {
   "cell_type": "code",
   "execution_count": 17,
   "id": "91f1189d",
   "metadata": {},
   "outputs": [
    {
     "data": {
      "text/latex": [
       "$$\\frac{\\sqrt{2}}{2} |01\\rangle+\\frac{\\sqrt{2}}{2} |10\\rangle$$"
      ],
      "text/plain": [
       "<IPython.core.display.Latex object>"
      ]
     },
     "execution_count": 17,
     "metadata": {},
     "output_type": "execute_result"
    }
   ],
   "source": [
    "MESSAGE = '10'\n",
    "\n",
    "qc_alice = QuantumCircuit(2,2)\n",
    "qc_alice.h(1)\n",
    "qc_alice.cx(1,0)\n",
    "\n",
    "if MESSAGE[-2]=='1':\n",
    "    qc_alice.x(1)\n",
    "if MESSAGE[-1]=='1':\n",
    "    qc_alice.z(1)\n",
    "\n",
    "ket = Statevector(qc_alice)\n",
    "ket.draw('latex')"
   ]
  },
  {
   "cell_type": "markdown",
   "id": "0f46677e",
   "metadata": {},
   "source": [
    "*check the ket for each message, especially for '10' and '01', compare with previous message encoding and circuit result*"
   ]
  },
  {
   "cell_type": "code",
   "execution_count": 18,
   "id": "361c3184",
   "metadata": {},
   "outputs": [
    {
     "data": {
      "text/plain": [
       "{'10': 1024}"
      ]
     },
     "execution_count": 18,
     "metadata": {},
     "output_type": "execute_result"
    }
   ],
   "source": [
    "qc_bob = QuantumCircuit(2,2)\n",
    "# Bob untangles\n",
    "qc_bob.cx(0,1)\n",
    "qc_bob.h(0)\n",
    "# Then measures\n",
    "qc_bob.measure([0,1],[0,1])\n",
    "\n",
    "backend.run(qc_alice.compose(qc_bob)).result().get_counts()"
   ]
  },
  {
   "cell_type": "code",
   "execution_count": 19,
   "id": "1291c335",
   "metadata": {},
   "outputs": [
    {
     "data": {
      "image/png": "[encoded data removed]",
      "text/plain": [
       "<PIL.Image.Image image mode=RGB size=371x99 at 0x7FC612C6FCD0>"
      ]
     },
     "execution_count": 19,
     "metadata": {},
     "output_type": "execute_result"
    }
   ],
   "source": [
    "qc_alice.compose(qc_bob).draw('latex')"
   ]
  },
  {
   "cell_type": "markdown",
   "id": "da3b0f56",
   "metadata": {},
   "source": [
    "The important thing to note here is that the x and z gates can be applied to just a single qubit (qubit 1 in this case). This means that Alice could send qubit 0 to Bob as soon as she has created the entangled pair. In fact, she could send it before she even knows what message she wants to send!<br>\n",
    "<br>\n",
    "(from Qiskit textbook)"
   ]
  },
  {
   "cell_type": "markdown",
   "id": "140c8962",
   "metadata": {},
   "source": [
    "## Add Charlie\n",
    "Another scenario: There's a third party, Charlie, whose job is just to create entangled states, send one qubit to Alice, and send another to Bob"
   ]
  },
  {
   "cell_type": "code",
   "execution_count": 20,
   "id": "938454b0",
   "metadata": {},
   "outputs": [
    {
     "data": {
      "text/latex": [
       "$$\\frac{\\sqrt{2}}{2} |00\\rangle+\\frac{\\sqrt{2}}{2} |11\\rangle$$"
      ],
      "text/plain": [
       "<IPython.core.display.Latex object>"
      ]
     },
     "execution_count": 20,
     "metadata": {},
     "output_type": "execute_result"
    }
   ],
   "source": [
    "qc_charlie = QuantumCircuit(2,2)\n",
    "\n",
    "qc_charlie.h(1)\n",
    "qc_charlie.cx(1,0)\n",
    "\n",
    "ket = Statevector(qc_charlie)\n",
    "ket.draw('latex')"
   ]
  },
  {
   "cell_type": "code",
   "execution_count": 21,
   "id": "5aca3d38",
   "metadata": {},
   "outputs": [
    {
     "data": {
      "image/png": "[encoded data removed]",
      "text/plain": [
       "<PIL.Image.Image image mode=RGB size=168x81 at 0x7FC612C6F040>"
      ]
     },
     "execution_count": 21,
     "metadata": {},
     "output_type": "execute_result"
    }
   ],
   "source": [
    "qc_charlie.draw('latex')"
   ]
  },
  {
   "cell_type": "code",
   "execution_count": 22,
   "id": "654903fb",
   "metadata": {},
   "outputs": [
    {
     "data": {
      "image/png": "[encoded data removed]",
      "text/plain": [
       "<PIL.Image.Image image mode=RGB size=176x79 at 0x7FC612B4A1F0>"
      ]
     },
     "execution_count": 22,
     "metadata": {},
     "output_type": "execute_result"
    }
   ],
   "source": [
    "MESSAGE = '11'\n",
    "\n",
    "qc_alice = QuantumCircuit(2,2)\n",
    "\n",
    "if MESSAGE[-2]=='1':\n",
    "    qc_alice.x(1)\n",
    "if MESSAGE[-1]=='1':\n",
    "    qc_alice.z(1)\n",
    "    \n",
    "qc_alice.draw('latex')"
   ]
  },
  {
   "cell_type": "code",
   "execution_count": 23,
   "id": "74987600",
   "metadata": {},
   "outputs": [
    {
     "data": {
      "image/png": "[encoded data removed]",
      "text/plain": [
       "<PIL.Image.Image image mode=RGB size=236x99 at 0x7FC6704E44F0>"
      ]
     },
     "execution_count": 23,
     "metadata": {},
     "output_type": "execute_result"
    }
   ],
   "source": [
    "qc_bob.draw('latex')"
   ]
  },
  {
   "cell_type": "code",
   "execution_count": 24,
   "id": "4a673b2b",
   "metadata": {},
   "outputs": [
    {
     "data": {
      "text/plain": [
       "{'11': 1024}"
      ]
     },
     "execution_count": 24,
     "metadata": {},
     "output_type": "execute_result"
    }
   ],
   "source": [
    "complete_qc = qc_charlie.compose(qc_alice.compose(qc_bob))\n",
    "backend.run(complete_qc).result().get_counts()"
   ]
  },
  {
   "cell_type": "code",
   "execution_count": 25,
   "id": "52a6f1c2",
   "metadata": {
    "scrolled": true
   },
   "outputs": [
    {
     "data": {
      "image/png": "[encoded data removed]",
      "text/plain": [
       "<Figure size 507.852x204.68 with 1 Axes>"
      ]
     },
     "execution_count": 25,
     "metadata": {},
     "output_type": "execute_result"
    }
   ],
   "source": [
    "complete_qc.draw('mpl')"
   ]
  },
  {
   "cell_type": "markdown",
   "id": "135dfbda",
   "metadata": {},
   "source": [
    "👍"
   ]
  },
  {
   "cell_type": "markdown",
   "id": "49e6e1a7",
   "metadata": {},
   "source": [
    "commentary:<br>\n",
    "it'd be better if we can do qc1 + qc2 + qc3 instead of qc1.compose(qc2.compose(qc3))"
   ]
  }
 ],
 "metadata": {
  "kernelspec": {
   "display_name": "Python 3.8.10 64-bit",
   "language": "python",
   "name": "python3810jvsc74a57bd0916dbcbb3f70747c44a77c7bcd40155683ae19c65e1c03b4aa3499c5328201f1"
  },
  "language_info": {
   "codemirror_mode": {
    "name": "ipython",
    "version": 3
   },
   "file_extension": ".py",
   "mimetype": "text/x-python",
   "name": "python",
   "nbconvert_exporter": "python",
   "pygments_lexer": "ipython3",
   "version": "3.8.10"
  }
 },
 "nbformat": 4,
 "nbformat_minor": 5
}
